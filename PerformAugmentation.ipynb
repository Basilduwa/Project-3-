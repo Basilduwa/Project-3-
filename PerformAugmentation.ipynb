{
 "cells": [
  {
   "cell_type": "markdown",
   "id": "45c87c25",
   "metadata": {},
   "source": [
    "### This is code for data augmentation\n",
    "\n",
    "You can use it to augment your image datasets. Just change the root folders and play the notebook."
   ]
  },
  {
   "cell_type": "code",
   "execution_count": 1,
   "id": "dc4b9ef9",
   "metadata": {},
   "outputs": [
    {
     "name": "stdout",
     "output_type": "stream",
     "text": [
      "Requirement already satisfied: albumentations in /Users/ame/Library/Python/3.9/lib/python/site-packages (2.0.8)\n",
      "Requirement already satisfied: opencv-python-headless>=4.9.0.80 in /Users/ame/Library/Python/3.9/lib/python/site-packages (from albumentations) (4.11.0.86)\n",
      "Requirement already satisfied: eval-type-backport in /Users/ame/Library/Python/3.9/lib/python/site-packages (from albumentations) (0.2.2)\n",
      "Requirement already satisfied: albucore==0.0.24 in /Users/ame/Library/Python/3.9/lib/python/site-packages (from albumentations) (0.0.24)\n",
      "Requirement already satisfied: numpy>=1.24.4 in /Users/ame/Library/Python/3.9/lib/python/site-packages (from albumentations) (2.0.2)\n",
      "Requirement already satisfied: PyYAML in /Users/ame/Library/Python/3.9/lib/python/site-packages (from albumentations) (6.0.2)\n",
      "Requirement already satisfied: scipy>=1.10.0 in /Users/ame/Library/Python/3.9/lib/python/site-packages (from albumentations) (1.13.1)\n",
      "Requirement already satisfied: pydantic>=2.9.2 in /Users/ame/Library/Python/3.9/lib/python/site-packages (from albumentations) (2.10.6)\n",
      "Requirement already satisfied: typing-extensions>=4.9.0 in /Users/ame/Library/Python/3.9/lib/python/site-packages (from albumentations) (4.14.0)\n",
      "Requirement already satisfied: simsimd>=5.9.2 in /Users/ame/Library/Python/3.9/lib/python/site-packages (from albucore==0.0.24->albumentations) (6.4.9)\n",
      "Requirement already satisfied: stringzilla>=3.10.4 in /Users/ame/Library/Python/3.9/lib/python/site-packages (from albucore==0.0.24->albumentations) (3.12.5)\n",
      "Requirement already satisfied: annotated-types>=0.6.0 in /Users/ame/Library/Python/3.9/lib/python/site-packages (from pydantic>=2.9.2->albumentations) (0.7.0)\n",
      "Requirement already satisfied: pydantic-core==2.27.2 in /Users/ame/Library/Python/3.9/lib/python/site-packages (from pydantic>=2.9.2->albumentations) (2.27.2)\n",
      "\u001b[33mWARNING: You are using pip version 21.2.4; however, version 25.1.1 is available.\n",
      "You should consider upgrading via the '/usr/local/bin/python3 -m pip install --upgrade pip' command.\u001b[0m\n",
      "Note: you may need to restart the kernel to use updated packages.\n"
     ]
    }
   ],
   "source": [
    "%pip install albumentations"
   ]
  },
  {
   "cell_type": "code",
   "execution_count": 13,
   "id": "45b4d21e",
   "metadata": {},
   "outputs": [],
   "source": [
    "import cv2\n",
    "import os\n",
    "import shutil\n",
    "import albumentations as A\n",
    "import numpy as np\n",
    "\n",
    "# Define root folders [ Change the names depending on your current structure ]\n",
    "dataset = \"./datasets/ProcessedFruitDataset\"\n",
    "augmented_dataset = \"./datasets/AugmentedFruitDataset\"\n",
    "\n",
    "# use a variable to count successful augmented images \n",
    "count_augmented_imaged = 0"
   ]
  },
  {
   "cell_type": "code",
   "execution_count": 14,
   "id": "fc91044f",
   "metadata": {},
   "outputs": [],
   "source": [
    "# if you need more transformations to add, you can find them at: \n",
    "# https://albumentations.ai/docs/3-basic-usage/choosing-augmentations/\n",
    "\n",
    "# Define augmentation pipeline\n",
    "transform = A.Compose([\n",
    "    A.HorizontalFlip(p=0.5),\n",
    "    A.RandomBrightnessContrast(p=0.4),\n",
    "    A.Rotate(limit=20, p=0.5),\n",
    "])"
   ]
  },
  {
   "cell_type": "code",
   "execution_count": 15,
   "id": "64d00122",
   "metadata": {},
   "outputs": [
    {
     "name": "stdout",
     "output_type": "stream",
     "text": [
      "Done augmenting:  275  images\n"
     ]
    }
   ],
   "source": [
    "num_augmentations = 1  # Number of augmented versions per image\n",
    "\n",
    "# This will delete augmented_dataset if it exists\n",
    "if os.path.exists(augmented_dataset):\n",
    "    shutil.rmtree(augmented_dataset)\n",
    "os.makedirs(augmented_dataset, exist_ok=True)\n",
    "\n",
    "for root, _, files in os.walk(dataset):\n",
    "    for filename in files:\n",
    "        if filename.lower().endswith((\".jpg\", \".jpeg\", \".png\")):\n",
    "            input_path = os.path.join(root, filename)\n",
    "\n",
    "            # Preserve folder structure\n",
    "            relative_path = os.path.relpath(input_path, dataset)\n",
    "            output_path = os.path.join(augmented_dataset, relative_path)\n",
    "            output_dir = os.path.dirname(output_path)\n",
    "            os.makedirs(output_dir, exist_ok=True)\n",
    "\n",
    "            # Load image, and check if it is an image\n",
    "            image = cv2.imread(input_path)\n",
    "            if image is None:\n",
    "                print(f\"Skipping unreadable image: {input_path}\")\n",
    "                continue\n",
    "\n",
    "            # Save original (copy)\n",
    "            shutil.copy2(input_path, output_path)\n",
    "\n",
    "            # Apply augmentation with correct color map\n",
    "            image_rgb = cv2.cvtColor(image, cv2.COLOR_BGR2RGB)\n",
    "            augmented = transform(image=image_rgb)[\"image\"]\n",
    "            augmented_bgr = cv2.cvtColor(augmented, cv2.COLOR_RGB2BGR)\n",
    "\n",
    "            # Save augmented image with prefix\n",
    "            aug_filename = f\"aug_{filename}\"\n",
    "            aug_path = os.path.join(output_dir, aug_filename)\n",
    "            cv2.imwrite(aug_path, augmented_bgr)\n",
    "            count_augmented_imaged += 1\n",
    "\n",
    "print(\"Done augmenting: \", count_augmented_imaged, \" images\")"
   ]
  }
 ],
 "metadata": {
  "kernelspec": {
   "display_name": "Python 3",
   "language": "python",
   "name": "python3"
  },
  "language_info": {
   "codemirror_mode": {
    "name": "ipython",
    "version": 3
   },
   "file_extension": ".py",
   "mimetype": "text/x-python",
   "name": "python",
   "nbconvert_exporter": "python",
   "pygments_lexer": "ipython3",
   "version": "3.9.9"
  }
 },
 "nbformat": 4,
 "nbformat_minor": 5
}
