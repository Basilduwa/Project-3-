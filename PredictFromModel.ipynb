{
 "cells": [
  {
   "cell_type": "code",
   "execution_count": 1,
   "id": "e8ec74bc",
   "metadata": {},
   "outputs": [
    {
     "name": "stdout",
     "output_type": "stream",
     "text": [
      "prediction index:  2\n",
      "prediction:  Orange\n"
     ]
    },
    {
     "name": "stderr",
     "output_type": "stream",
     "text": [
      "libpng warning: iCCP: known incorrect sRGB profile\n"
     ]
    }
   ],
   "source": [
    "from skimage.feature import hog\n",
    "import joblib\n",
    "import cv2\n",
    "import numpy as np\n",
    "\n",
    "image_path = './images/test/orange_30.jpg'\n",
    "\n",
    "model = joblib.load('./models/knn/knn_model.joblib')\n",
    "class_names = joblib.load('./models/knn/knn_class_names.joblib')\n",
    "\n",
    "img = cv2.imread(image_path, cv2.IMREAD_GRAYSCALE)\n",
    "img = cv2.resize(img, (64, 64))\n",
    "\n",
    "features = hog(img, \n",
    "orientations=9, \n",
    "pixels_per_cell=(8,8),\n",
    "cells_per_block=(2, 2), \n",
    "block_norm='L2-Hys')\n",
    "\n",
    "# we have to flatten out the image across one axis using numpy\n",
    "img_flat = np.expand_dims(features, axis=0)\n",
    "pred = model.predict(img_flat)[0]\n",
    "print(\"prediction index: \", pred);\n",
    "print(\"prediction: \", class_names[pred]);\n"
   ]
  }
 ],
 "metadata": {
  "kernelspec": {
   "display_name": "Python 3",
   "language": "python",
   "name": "python3"
  },
  "language_info": {
   "codemirror_mode": {
    "name": "ipython",
    "version": 3
   },
   "file_extension": ".py",
   "mimetype": "text/x-python",
   "name": "python",
   "nbconvert_exporter": "python",
   "pygments_lexer": "ipython3",
   "version": "3.9.9"
  }
 },
 "nbformat": 4,
 "nbformat_minor": 5
}
